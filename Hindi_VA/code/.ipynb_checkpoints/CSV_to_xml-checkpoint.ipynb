{
 "cells": [
  {
   "cell_type": "code",
   "execution_count": 2,
   "metadata": {
    "collapsed": true,
    "scrolled": true
   },
   "outputs": [],
   "source": [
    "# -*- coding: utf-8 -*-\n",
    "# Convert the csv of the translated narratives to an xml tree\n",
    "\n",
    "import sys\n",
    "from lxml import etree\n",
    "import argparse\n",
    "import calendar\n",
    "import csv\n",
    "import re\n",
    "import subprocess\n"
   ]
  },
  {
   "cell_type": "code",
   "execution_count": 3,
   "metadata": {
    "scrolled": true
   },
   "outputs": [],
   "source": [
    "#XML Root Information\n",
    "adult_root = etree.Element(\"root\")\n",
    "adult_tag = \"adult_anonymous\"\n",
    "id_tag = \"MG_ID\"\n",
    "narr_tag = \"narrative\"\n",
    "code_tag = \"Final_code\"\n",
    "p1_keywords_tag = \"keywords_p1\"\n",
    "p1_icd_tag = \"icd_p1\"\n",
    "p2_keywords_tag = \"keywords_p2\"\n",
    "p2_icd_tag = \"icd_p2\"\n",
    "\n",
    "#CSV Parser Codes\n",
    "id_name = 'id'\n",
    "narrative = 'transcribed_mds_narrative'\n",
    "final_code = 'final_code'\n",
    "p1_keywords = 'p1_keywords'\n",
    "p1_icd = 'p1_icd'\n",
    "p2_keywords = 'p2_keywords'\n",
    "p2_icd = 'p2_icd'"
   ]
  },
  {
   "cell_type": "code",
   "execution_count": 4,
   "metadata": {
    "scrolled": true
   },
   "outputs": [
    {
     "ename": "TypeError",
     "evalue": "'errors' is an invalid keyword argument for this function",
     "output_type": "error",
     "traceback": [
      "\u001b[0;31m---------------------------------------------------------------------------\u001b[0m",
      "\u001b[0;31mTypeError\u001b[0m                                 Traceback (most recent call last)",
      "\u001b[0;32m<ipython-input-4-3559740e5715>\u001b[0m in \u001b[0;36m<module>\u001b[0;34m()\u001b[0m\n\u001b[1;32m      1\u001b[0m \u001b[0moutput_file\u001b[0m \u001b[0;34m=\u001b[0m \u001b[0;34m'../data/mds_narrative_hindi.xml'\u001b[0m\u001b[0;34m\u001b[0m\u001b[0m\n\u001b[1;32m      2\u001b[0m \u001b[0mi\u001b[0m \u001b[0;34m=\u001b[0m \u001b[0;36m0\u001b[0m\u001b[0;34m\u001b[0m\u001b[0m\n\u001b[0;32m----> 3\u001b[0;31m \u001b[0;32mwith\u001b[0m \u001b[0mopen\u001b[0m \u001b[0;34m(\u001b[0m\u001b[0;34m\"../data/mds_narrative_hindi.csv\"\u001b[0m\u001b[0;34m,\u001b[0m\u001b[0;34m'rb'\u001b[0m\u001b[0;34m,\u001b[0m\u001b[0merrors\u001b[0m\u001b[0;34m=\u001b[0m\u001b[0;34m'ignore'\u001b[0m\u001b[0;34m)\u001b[0m \u001b[0;32mas\u001b[0m \u001b[0mcsvfile\u001b[0m\u001b[0;34m:\u001b[0m\u001b[0;34m\u001b[0m\u001b[0m\n\u001b[0m\u001b[1;32m      4\u001b[0m     \u001b[0mreader\u001b[0m \u001b[0;34m=\u001b[0m \u001b[0mcsv\u001b[0m\u001b[0;34m.\u001b[0m\u001b[0mDictReader\u001b[0m\u001b[0;34m(\u001b[0m\u001b[0mcsvfile\u001b[0m\u001b[0;34m)\u001b[0m\u001b[0;34m\u001b[0m\u001b[0m\n\u001b[1;32m      5\u001b[0m     \u001b[0;32mfor\u001b[0m \u001b[0mrow\u001b[0m \u001b[0;32min\u001b[0m \u001b[0mreader\u001b[0m\u001b[0;34m:\u001b[0m\u001b[0;34m\u001b[0m\u001b[0m\n",
      "\u001b[0;31mTypeError\u001b[0m: 'errors' is an invalid keyword argument for this function"
     ]
    }
   ],
   "source": [
    "output_file = '../data/mds_narrative_hindi.xml'\n",
    "i = 0\n",
    "with open (\"../data/mds_narrative_hindi.csv\",'rb') as csvfile:\n",
    "    reader = csv.DictReader(csvfile)\n",
    "    for row in reader:\n",
    "        try:\n",
    "            root = adult_root\n",
    "            tag = adult_tag\n",
    "            child = etree.SubElement(root,tag)\n",
    "            id_node = etree.SubElement(child,id_tag)\n",
    "            id_node.text = row[id_name]\n",
    "\n",
    "            narr_node = etree.SubElement(child,narr_tag)\n",
    "            if row[narrative] != 'NULL':\n",
    "                narr_node.text = row[narrative]\n",
    "\n",
    "            p1key_node = etree.SubElement(child,p1_keywords_tag)\n",
    "            p1key_node.text = row[p1_keywords]\n",
    "\n",
    "            p1icd_node = etree.SubElement(child,p1_icd_tag)\n",
    "            p1icd_node.text = row[p1_icd]\n",
    "\n",
    "            p2key_node = etree.SubElement(child,p2_keywords_tag)\n",
    "            p2key_node.text = row[p2_keywords]\n",
    "\n",
    "            p2icd_node = etree.SubElement(child,p2_icd_tag)\n",
    "            p2icd_node.text = row[p2_icd]\n",
    "\n",
    "            icd_node = etree.SubElement(child,code_tag)\n",
    "            icd_node.text = row[final_code]\n",
    "            print i\n",
    "            i = i+1\n",
    "        except ValueError:\n",
    "            print row\n",
    "        #print(etree.tostring(root, pretty_print=True))\n",
    "        #break\n",
    "\n",
    "etree.ElementTree(adult_root).write(output_file)\n",
    "\n",
    "\n",
    "        "
   ]
  },
  {
   "cell_type": "code",
   "execution_count": null,
   "metadata": {
    "collapsed": true,
    "scrolled": true
   },
   "outputs": [],
   "source": []
  }
 ],
 "metadata": {
  "kernelspec": {
   "display_name": "Python 2",
   "language": "python",
   "name": "python2"
  },
  "language_info": {
   "codemirror_mode": {
    "name": "ipython",
    "version": 2
   },
   "file_extension": ".py",
   "mimetype": "text/x-python",
   "name": "python",
   "nbconvert_exporter": "python",
   "pygments_lexer": "ipython2",
   "version": "2.7.14"
  }
 },
 "nbformat": 4,
 "nbformat_minor": 2
}
