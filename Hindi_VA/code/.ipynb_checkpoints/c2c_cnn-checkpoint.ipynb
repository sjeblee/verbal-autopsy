{
 "cells": [
  {
   "cell_type": "code",
   "execution_count": 6,
   "metadata": {
    "collapsed": true
   },
   "outputs": [],
   "source": [
    "# Convert the csv of the translated narratives to an xml tree\n",
    "\n",
    "from __future__ import unicode_literals, print_function, division\n",
    "from io import open\n",
    "import glob\n",
    "import os\n",
    "import torch\n",
    "import sys\n",
    "from lxml import etree\n",
    "import argparse\n",
    "import calendar\n",
    "import csv\n",
    "import re\n",
    "import subprocess\n",
    "import time\n",
    "import math "
   ]
  },
  {
   "cell_type": "code",
   "execution_count": 7,
   "metadata": {
    "collapsed": true
   },
   "outputs": [],
   "source": [
    "# -*- coding: UTF-8 -*-\n",
    "data={}\n",
    "seq_length = 0\n",
    "all_categories = []\n",
    "tree = etree.parse('../data/mds+rct/train_adult_cat.xml')\n",
    "for e in tree.iter(\"cghr_cat\"):\n",
    "        if e.text not in data:\n",
    "             data[e.text]=[]\n",
    "             all_categories.append(e.text)\n",
    "for e in tree.iter(\"hindi_narrative\",\"cghr_cat\"):\n",
    "    if e.tag == \"hindi_narrative\":\n",
    "        value= u''.join(e.text)\n",
    "        if(seq_length) < len(value):\n",
    "            seq_length = len(value)\n",
    "        \n",
    "    if e.tag == 'cghr_cat':\n",
    "        data[e.text].append(value)\n",
    "\n",
    "\n",
    "# for k,v in data.iteritems():\n",
    "#     print (k)\n",
    "#     print ((u\"\\n\".join(v)))\n",
    "\n",
    "n_categories= len(all_categories)\n"
   ]
  },
  {
   "cell_type": "code",
   "execution_count": 8,
   "metadata": {
    "collapsed": true
   },
   "outputs": [],
   "source": [
    "all_text = ''\n",
    "for v in data.itervalues():\n",
    "    all_text = all_text + u\"-\".join(v)\n",
    "\n",
    "vocab = set(all_text)\n",
    "n_letters = len(vocab)\n",
    "\n",
    "def letterToIndex(letter):\n",
    "    return list(vocab).index(letter)\n",
    "\n",
    "def letterToTensor(letter):\n",
    "    tensor = torch.zeros(1, n_letters)\n",
    "    tensor[0][letterToIndex(letter)] = 1\n",
    "    return tensor\n",
    "\n",
    "# Turn a line into a <line_length x 1 x n_letters>,\n",
    "# or an array of one-hot letter vectors\n",
    "def lineToTensor(narrative):\n",
    "    tensor = torch.zeros(seq_length,1)\n",
    "    for li, letter in enumerate(narrative):\n",
    "        tensor[li][0] = letterToIndex(letter)\n",
    "    for i in range (1,seq_length-len(narrative)):\n",
    "        tensor[len(narrative)+i][0]=0\n",
    "    return tensor\n",
    "\n",
    "narr = data['1'][0]\n",
    "\n"
   ]
  },
  {
   "cell_type": "code",
   "execution_count": 9,
   "metadata": {
    "collapsed": true
   },
   "outputs": [],
   "source": [
    "import torch.nn as nn\n",
    "\n",
    "class CNN(nn.Module):\n",
    "    def __init__(self,sequence_length,input_size, hidden_size, output_size):\n",
    "        super(CNN, self).__init__()\n",
    "\n",
    "        self.hidden_size = hidden_size\n",
    "        self.seq_length = sequence_length\n",
    "        self.encoder = nn.Embedding(input_size,20)\n",
    "        self.conv2 = nn.Sequential(nn.Conv2d(1,3,kernel_size = (2,20),stride=1), nn.ReLU())\n",
    "        self.conv3 = nn.Sequential(nn.Conv2d(1,3,kernel_size=(3,20),stride=1),nn.ReLU())\n",
    "        self.conv4 = nn.Sequential(nn.Conv2d(1,3,kernel_size=(4,20),stride=1),nn.ReLU())\n",
    "        self.conv5 = nn.Sequential(nn.Conv2d(1,3,kernel_size=(5,20),stride=1),nn.ReLU())\n",
    "        self.conv6 = nn.Sequential(nn.Conv2d(1,3,kernel_size=(6,20),stride=1),nn.ReLU())\n",
    "        self.conv7 = nn.Sequential(nn.Conv2d(1,3,kernel_size=(7,20),stride=1),nn.ReLU())\n",
    "        self.conv8 = nn.Sequential(nn.Conv2d(1,3,kernel_size=(8,20),stride=1),nn.ReLU())\n",
    "        self.linear = nn.Linear(21,output_size)\n",
    "        self.softmax = nn.LogSoftmax(dim=1)\n",
    "\n",
    "    def forward(self, input):\n",
    "        input = self.encoder(input.long())\n",
    "        input = input.squeeze(1)\n",
    "#         print(input.unsqueeze(0).unsqueeze(0).size())\n",
    "        output2 = self.conv2(input.unsqueeze(0).unsqueeze(0))\n",
    "        self.maxpool = nn.MaxPool1d(kernel_size=(self.seq_length-2+1))\n",
    "        output2 = self.maxpool(output2.squeeze(3))\n",
    "#         print(output2.size())\n",
    "        output3 = self.conv3(input.unsqueeze(0).unsqueeze(0))\n",
    "        self.maxpool = nn.MaxPool1d(kernel_size=(self.seq_length-3+1))\n",
    "        output3 = self.maxpool(output3.squeeze(3))\n",
    "#         print(output3.size())\n",
    "        output4 = self.conv4(input.unsqueeze(0).unsqueeze(0))\n",
    "        self.maxpool = nn.MaxPool1d(kernel_size=(self.seq_length-4+1))\n",
    "        output4 = self.maxpool(output4.squeeze(3))\n",
    "#         print(output4.size())\n",
    "        output5 = self.conv5(input.unsqueeze(0).unsqueeze(0))\n",
    "        self.maxpool = nn.MaxPool1d(kernel_size=(self.seq_length-5+1))\n",
    "        output5 = self.maxpool(output5.squeeze(3))\n",
    "        \n",
    "        output6 = self.conv6(input.unsqueeze(0).unsqueeze(0))\n",
    "        self.maxpool = nn.MaxPool1d(kernel_size=(self.seq_length-6+1))\n",
    "        output6 = self.maxpool(output6.squeeze(3))\n",
    "        \n",
    "        output7 = self.conv7(input.unsqueeze(0).unsqueeze(0))\n",
    "        self.maxpool = nn.MaxPool1d(kernel_size=(self.seq_length-7+1))\n",
    "        output7 = self.maxpool(output7.squeeze(3))\n",
    "        \n",
    "        output8 = self.conv8(input.unsqueeze(0).unsqueeze(0))\n",
    "        self.maxpool = nn.MaxPool1d(kernel_size=(self.seq_length-8+1))\n",
    "        output8 = self.maxpool(output8.squeeze(3))\n",
    "        \n",
    "        final_output = torch.cat((output2,output3,output4,output5,output6,output7,output8),1)\n",
    "        final_output = self.linear(final_output.squeeze(2))\n",
    "        final_output = self.softmax(final_output)\n",
    "        return final_output\n",
    "\n",
    "n_hidden = 64\n",
    "cnn = CNN(seq_length,n_letters, n_hidden, n_categories)\n",
    "    "
   ]
  },
  {
   "cell_type": "code",
   "execution_count": 10,
   "metadata": {},
   "outputs": [
    {
     "name": "stdout",
     "output_type": "stream",
     "text": [
      "torch.Size([2077, 1])\n",
      "tensor([[-4.4942, -1.9956, -2.5119, -4.1312, -1.7427, -4.1493, -5.2282,\n",
      "         -3.9633, -2.6132, -3.3899, -4.7573, -2.3901, -3.9277, -3.4341,\n",
      "         -3.4594, -2.4987, -1.8417, -4.6929]])\n",
      "torch.Size([1, 18])\n"
     ]
    }
   ],
   "source": [
    "input = lineToTensor(narr)\n",
    "print(input.size())\n",
    "hidden = torch.zeros(1,1,n_hidden)\n",
    "\n",
    "output= cnn(input)\n",
    "print(output)\n",
    "print(output.size())\n"
   ]
  },
  {
   "cell_type": "code",
   "execution_count": 11,
   "metadata": {},
   "outputs": [
    {
     "name": "stdout",
     "output_type": "stream",
     "text": [
      "('3', 4)\n"
     ]
    }
   ],
   "source": [
    "def categoryFromOutput(output):\n",
    "    top_n, top_i = output.topk(1)\n",
    "#     print(top_n)\n",
    "#     print(top_i.size())\n",
    "    category_i = top_i[0].item()\n",
    "    return all_categories[category_i], category_i\n",
    "\n",
    "print(categoryFromOutput(output))"
   ]
  },
  {
   "cell_type": "code",
   "execution_count": 12,
   "metadata": {},
   "outputs": [
    {
     "name": "stdout",
     "output_type": "stream",
     "text": [
      "category = 16 tensor([ 6]) / line = आत्महत्या करने के कारण 20 साल की महिला की मौत हो गई थी। कारण व्यक्तिगत था और इसलिए अधिक जानकारी नहीं दी गई थी। उसे कोई अन्य बीमारी या लक्षण नहीं था उत्तरदाता के अनुसार, वह नहीं जानता कि उसकी बेटी ने आत्महत्या की है। वह खेत से आया और अपनी बेटी को मृत पाया। उसका पोस्टमॉर्टम या चेक अप नहीं किया गया था। चूंकि यह आत्महत्या का मामला है, अधिक जानकारी नहीं दी गई थी। यह सिर्फ इतना ज्ञात है कि जब वह खेत में गया था और रोगग्रस्त स्कूल गया था और जब वह लौटा, तो वह बिस्तर में मृत पाया गया।\n",
      "category = 7 tensor([ 9]) / line = 78 साल की उम्र XXX, स्वस्थ था। उन्होंने मानसिक रूप से शुरू किया और गंभीर अस्थमात्मक समस्या का सामना कर रहा था। वह अपने पूरे जीवन में अपने दोनों आहार के लिए दवाएं ले रहा था। उनका अस्थमा बहुत प्रभावशाली था। पूर्ण दोपहर और चंद्रमा के दिनों में गंभीर। उसके पास भी गंभीर उत्पादक खांसी थी और सांस लेने के दौरान छाती को तोड़ना पड़ा था। 28-11-02 को, मध्यरात्रि में 12 बजे, वह सांस लेने में कठिनाई के कारण समाप्त हो गया। उत्तरदायी यात्रा करते हैं कि मृत्यु उनकी मानसिक विकार नहीं बन गई थी, बल्कि उनके अस्थमात्मक तत्व के कारण।\n",
      "category = 13 tensor([ 10]) / line = उत्तरदाताओं के बयान के अनुसार मृतक दैनिक आधार पर शराब का सेवन करने के लिए प्रयुक्त होता था। दिन-दर-दिन दिन में उसकी भूख खोना शुरू हो गया। वह पेट में धीरे-धीरे सूजन के साथ पेट दर्द से पीड़ित भी था। उसने निजी प्राधिकरण से परामर्श लिया। 23/06/02 को घर पर उनकी मृत्यु हो गई।\n",
      "category = 11 tensor([ 15]) / line = एक वर्ष के लिए मधुमेह से पीड़ित रोगी और अस्पताल से भरोसा करने के बाद XXX में अस्पताल के तहत इलाज के बाद वह अस्पताल में अपनी मूल भूमि और उपचार में गया था, पिछली बार मधुमेह से गुर्दे की विफलता के परिणामस्वरूप मृत्यु हो गई थी। उत्तरदायी भाषा के अनुसार।\n",
      "category = 11 tensor([ 15]) / line = वहां एक पुरुष था, उसकी उम्र 65 साल थी, उसे मधुमेह था, कोई अन्य बीमारी नहीं थी। उन्हें 1 महीने से मधुमेह था और उन्हें श्री कृष्णा अस्पताल ले जाया गया, जहां से मधुमेह के लिए दवाएं 2 महीने तक लाई गईं लेकिन उन्हें कोई फायदा नहीं हुआ और फिर घर लाया गया और फिर उनकी मृत्यु घर पर हुई।\n",
      "category = 5 tensor([ 0]) / line = उत्तरदायी मृतक के दामाद का पड़ोसी है। उन्होंने कहा कि XXXi को कोई बीमारी नहीं थी। ठंड महसूस करने के साथ बुखार के बाद उसकी डिलीवरी थी। बुखार ऊंचा था। XXX के XXX XXX को बुलाया गया था। उसने एक इंजेक्शन और एक दवा दी। वह ठीक था, जबकि डॉक्टर मौजूद था। डॉक्टर छोड़ने के दो घंटे बाद, वह बेचैन थी। परिवार सोच रहा था और उसे XXX ले जाने की योजना बना रहा था, वह 6 नवंबर, 2002 के मध्यरात्रि में अचानक मर गई\n",
      "category = 14 tensor([ 1]) / line = उत्तरदाता के मुताबिक मृतक 40 साल की महिला थी, जो सूजन और खून बहने से मर गई थी। उन्हें बाएं पैर में गंभीर सूजन के साथ रिपोर्ट किया गया था, जिसकी मृत्यु तब तक हुई जब उन्हें संगरूर में सरकारी अस्पताल में भर्ती कराया गया था, जहां इलाज के दौरान, उन्हें लगातार रक्तस्राव के साथ रिपोर्ट मिली, जो दवाओं के साथ 2 महीने तक रुक गईं लेकिन औषधीय रोकने के बाद फिर से शुरू हुई जिनके लिए उन्हें पटियाला सरकारी अस्पताल में 15-20 दिनों के लिए और उसके बाद पीजीआई चंडीगढ़ में 30 दिनों के लिए भर्ती कराया गया था, लेकिन उनके स्वास्थ्य में सुधार नहीं हुआ और उन्हें दवाओं के साथ घर वापस भेज दिया गया। घर वापस आने के बाद, वह एक महीने के लिए अच्छी तरह से थी जिसके बाद रक्तस्राव फिर से शुरू हुआ। वह हर बार शारीरिक गतिविधि करने के लिए गिरती थी। उन्हें संगरूर में अस्पताल टिप्पणी करने के लिए ले जाया गया जहां उनकी मृत्यु हो गई।\n",
      "category = 3 tensor([ 4]) / line = मर गया व्यक्ति उम्र 6 9 वर्ष का था। वह गठिया से पीड़ित थी। तो वह चलने और सोने के समय, अपने पैर सूजन हो रही थी। इसके अलावा वह पिछले 18 महीनों के लिए सूखी खांसी जारी रख रही थी। तो वह कभी-कभी छाती का दर्द भी प्राप्त कर रही थी। उस समय उन्होंने रामथर्थ में डॉ। सट्टाधर अस्पताल में इलाज किया। उसे उचित उपचार नहीं मिला, इसलिए उसकी समस्या में वृद्धि हुई। उसकी मृत्यु से 1 महीने पहले उसे भूख नहीं लग रही थी, वह केवल पानी पी रही थी, इसलिए वह बीमार हो गई, और उसके गुर्दे भी सूजन शुरू कर दिए। उस वजह से, वह पिछले 8 महीनों से ढीली गति से पीड़ित थी, और मूत्र को पारित करने के लिए कई बार जाना पड़ता है। तो पिछले 7 महीनों से उसने अपना वजन कम करना शुरू कर दिया। वह पिछले 8 महीनों में ठंड और बुखार हो रही थी। जैसे ही वह बहुत बूढ़ा हो गई, इसलिए वह परेशानी को संभालने में सक्षम नहीं थी और वह मर गई। डॉ सात्धारे ने कहा कि गठिया के कारण, उन्हें बुखार हो रहा था और सूखी खांसी के कारण उन्हें छाती का दर्द हो रहा था। धीरे-धीरे उसकी समस्या बढ़ने लगी, क्योंकि उसके मूत्र संबंधी समस्या और दस्त थे और उसने वजन भी खो दिया। इस तरह वह मर गई। कोई अन्य नकारात्मक लक्षण नहीं।\n",
      "category = 9 tensor([ 3]) / line =  मृतक व्यकति उच्च रक्त चाप से गरसित था जिसका मुखय कारण उसकी सोचने की कषमता थी उनको अअंतिम हरदयघात से पहले दो बार हरदयघात हुा और उसकी रक्तचाप की गति लगातार बधने लगी जिसके फलसवरूप उसके पेट में दरद होने लगा और उसको चक्कर आ गे  व्यकति को लगातार \"vomiting\" भी हो रही थी और उसकी एक \"Kidney\" ने भी काम करना बंध कर दिया था जिसके फलसवरूप उसकी मृत्यु हो गी\n",
      "category = 5 tensor([ 0]) / line = 2 साल से, मृतक को गड़बड़ी थी और गर्भावस्था के दौरान उच्च बीपी के इलाज पर था, विरोधी बीपी गोलियां रोक दी गई थीं। उन्हें एएनसी टीटी, आईएफए टैबलेट और चेक अप मिला था। भ्रूण वृद्धि सामान्य थी। उसके पास 6 जीवित बच्चे थे और सभी को सामान्य रूप से वितरित किया गया था। 15 अक्टूबर 2001 को शाम 4 बजे बड़े दर्द और झिल्ली फटने लगे। पीड़ा बंद हो गई और इसलिए चिकित्सक को इंजेक्शन दिया गया था। लेकिन श्रम दर्द के साथ कोई सुधार नहीं है। उसे एक ऑटो में अस्पताल ले जाया गया जहां उसने खून बहना शुरू कर दिया। वह सी सेक्शन ले गई लेकिन सिलाई लेने के दौरान वह टेबल पर मर गई। बच्चा ठीक है।\n"
     ]
    }
   ],
   "source": [
    "import random\n",
    "\n",
    "def randomChoice(l):\n",
    "    return l[random.randint(0, len(l) - 1)]\n",
    "\n",
    "def randomTrainingExample():\n",
    "    category = randomChoice(all_categories)\n",
    "    line = randomChoice(data[category])\n",
    "    category_tensor = torch.tensor([all_categories.index(category)], dtype=torch.long)\n",
    "    line_tensor = lineToTensor(line)\n",
    "    return category, line, category_tensor, line_tensor\n",
    "\n",
    "def getTensors(category,line):\n",
    "    category_tensor = torch.tensor([all_categories.index(category)], dtype=torch.long)\n",
    "    line_tensor = lineToTensor(line)\n",
    "    return category, line, category_tensor, line_tensor\n",
    "    \n",
    "\n",
    "for i in range(10):\n",
    "    category, line, category_tensor, line_tensor = randomTrainingExample()\n",
    "    print('category =', category,category_tensor, '/ line =', line)"
   ]
  },
  {
   "cell_type": "code",
   "execution_count": 27,
   "metadata": {
    "collapsed": true
   },
   "outputs": [],
   "source": [
    "learning_rate = 0.005\n",
    "criterion = nn.NLLLoss()\n",
    "optimizer = torch.optim.Adam(cnn.parameters(),lr=learning_rate)"
   ]
  },
  {
   "cell_type": "code",
   "execution_count": 28,
   "metadata": {
    "collapsed": true
   },
   "outputs": [],
   "source": [
    " # If you set this too high, it might explode. If too low, it might not learn\n",
    "\n",
    "def train(category_tensor, line_tensor):\n",
    "#     hidden = rnn.initHidden()\n",
    "\n",
    "    cnn.zero_grad()\n",
    "    output = cnn(line_tensor)\n",
    "\n",
    "    loss = criterion(output, category_tensor)\n",
    "    loss.backward()\n",
    "    optimizer.step()\n",
    "\n",
    "    return output, loss.item()\n",
    "\n",
    "def save():\n",
    "    save_filename = \"./model_cnn.pt\"\n",
    "    torch.save(cnn, save_filename)\n",
    "    print('Saved as %s' % save_filename)\n",
    "    \n",
    "def writeToFile(line):\n",
    "    if os.path.exists(\"output.txt\"):\n",
    "            append_write = 'a' # append if already exists\n",
    "    else:\n",
    "            append_write = 'w' # make a new file if not\n",
    "\n",
    "    f = open(\"output.txt\",append_write)\n",
    "    f.write(line + '\\n')\n",
    "    f.close()\n",
    "    \n",
    "def timeSince(since):\n",
    "    now = time.time()\n",
    "    s = now - since\n",
    "    m = math.floor(s / 60)\n",
    "    s -= m * 60\n",
    "    return '%dm %ds' % (m, s)"
   ]
  },
  {
   "cell_type": "code",
   "execution_count": null,
   "metadata": {
    "collapsed": true
   },
   "outputs": [],
   "source": [
    "def trainIters(epochs):\n",
    "    print_every = 5000\n",
    "    counter = 0\n",
    "    current_loss = 0\n",
    "    start = time.time(\n",
    "    for e in range(epochs):\n",
    "        for k,v in data.iteritems():\n",
    "            for i in range(len(v)):\n",
    "                counter += 1\n",
    "                category, line, category_tensor, line_tensor = getTensors(k,v[i])\n",
    "                output, loss = train(category_tensor, line_tensor)\n",
    "                current_loss += loss\n",
    "\n",
    "        # Print iter number, loss, name and guess\n",
    "                if counter % print_every == 0:\n",
    "                    guess, guess_i = categoryFromOutput(output)\n",
    "                    correct = '✓' if guess == category else '✗ (%s)' % category\n",
    "                    line = '%d %d%% (%s) %.4f %s / %s %s' % (iter, iter / n_iters * 100, timeSince(start), current_loss, line, guess, correct)\n",
    "                    print(line)\n",
    "                    writeToFile(line)\n",
    "        \n",
    "    save()\n",
    "                \n",
    "                \n",
    "            \n",
    "     \n",
    "    "
   ]
  },
  {
   "cell_type": "code",
   "execution_count": 92,
   "metadata": {},
   "outputs": [
    {
     "name": "stdout",
     "output_type": "stream",
     "text": [
      "tensor([[-2.1327]])\n",
      "torch.Size([1, 1])\n",
      "5000 5% (1m 14s) 2.9245  उत्तरदाता के अनुसार पूर्व मे उनको किसी प्रकार की बीमारी नही थी परंतु मृत्यु के  दिन पहले उनके दाहिने पैर मे दरद हुा दरद पांव की पिंडली से कमर तक होता था दवीयां भी दिया, आराम नही मिला, अधिक उमर हो गयी थी इसी कारण मृत्यु हो गयी / 15 ✗ (18)\n",
      "tensor([[-2.1109]])\n",
      "torch.Size([1, 1])\n",
      "10000 10% (2m 27s) 2.9136  उत्तरदाता के अनुसार शाम करीब सात बजे का समय था उत्तरदाता घर के आअंगन से बढे थे मृतक बाहर से आये और चापाकल पर जाकर मुंह हांथ धोये उसके बाद अपने रूम मे जाने लगे लेकिन अचानक दरव पर ही वे गिर प सभी लोग मृतक को उठाकर देखा तो वे एकदम चित प हुये थे और उनका नबज़ चलना बंद हो गया था घरवाले पासके डौक्टर को बुलाये तो डौक्टर ने बताया कि वे अब इस दुनिया मे नही रहे / 15 ✗ (18)\n",
      "tensor([[-2.0856]])\n",
      "torch.Size([1, 1])\n",
      "15000 15% (3m 39s) 2.7457  पहले से कोी बीमारी नहीं था उस रात को रम में बहुत दरद हुा दरद बरदास्त नहीं होता था ___ थोडा दरद ____ ____ ____ दिया गया लेकिन वो पेट में ____ हो उसकी मौत हो गयी / 15 ✗ (9)\n",
      "tensor([[-2.0037]])\n",
      "torch.Size([1, 1])\n",
      "20000 20% (4m 51s) 2.2157  उत्तरदाता जी कि मरुतक की पतनी बी ने बताया कि उसक किसी प्रकर कि क बीमरी नही थी व पेशे से \"mistry\" था तथा मकान बनने का कम करथा था सुबह क खाना का कार पास के गानव मे \"motorcycle\" पर कम करने के लीये चला गया सारा दिन कम करने के पसचत शम क जब वपिस घर आ रहा था थो रस्ते मे उसका \"accident\" ह गया तभी वहिन से कीसी न अअसपिताल मे \"phone\" किय की \"accident\" हु है थ अअसपिताल कि गदी गयी और उसक उथाल अअसपितल ले ग वाहा \"doctor\" ने द थ मरुत घ कर दिया फिर हुमे अअसपितल से ही \"phone\" आया की अअपके अअदमी का \"accident\" ह गया हे थ हुम उसी समय वहा गये तभी द की व मर चुका था / 15 ✗ (16)\n",
      "tensor([[-2.1182]])\n",
      "torch.Size([1, 1])\n",
      "25000 25% (6m 4s) 3.0527  उत्तरदाता ने बताया कि मृतका को जौिंडिस हो गया था जिसका ईलज पहले बिंदकी से फिर फतेहपुर अस्पताल से चल रहा था परंतु समय अधिक लगने के बावजूद भी मामूली सुधार हुा और घर पर ही दवा दिया जा रहा था मृत्यु वाले दिन सुबह से ही मृतक ने खाना पीना बंद कर दिया था और शाम मे मृत्यु हो गयी / 15 ✗ (13)\n",
      "tensor([[-2.1027]])\n",
      "torch.Size([1, 1])\n",
      "30000 30% (7m 16s) 4.0341  उत्तरदाता के अनुसार मृतक (लखनलाल शुकला) पिछले  साल से सवास की बीमरी से पी थे इलाज दिगौड़ अस्पताल मे चल रहा था लेकिन कोी आराम नही हुा दिगौड़ डौक्टर ने झांसी ले जाने की सलाह दी __________ की रात को तबीयर अधिक बिगड़ गी सुबह झांसी के लिये निकलते समय चाय पी और घर पर ही खतम हो गये / 16 ✗ (7)\n",
      "tensor([[-2.1899]])\n",
      "torch.Size([1, 1])\n",
      "35000 35% (8m 28s) 2.2103  उत्तरदाता ने बताया कि उसका मृतक बेटा \"tension\" मे था परंतु ये नही पता कि किस बात की \"tension\" थी हंलाकि परिवार आरथिक रूप से समपनन है मृतक घर के सामने मंदिर मे मृत पाया गया उसने \"suicide\" किया कारण पता नही चला / 15 ✗ (16)\n",
      "tensor([[-2.1601]])\n",
      "torch.Size([1, 1])\n",
      "40000 40% (9m 46s) 3.2787  राधेलाल जी वृद्ध व्यकति थे जिनका दिमागी संतुलन ठीक नही था और कोी बीमारी नही थी मृत्यु सामानय थी / 16 ✗ (14)\n",
      "tensor([[-2.0949]])\n",
      "torch.Size([1, 1])\n",
      "45000 45% (11m 13s) 2.6498  उत्तरदाता के अनुसार मृतक को सात आठ दिन से बुखार था जो थीक नही हो रहा था उसे पहले प्रइवेट डौक्टर को दिखाया गया तथा उसकी दवाी खायी किंतु उसे कोी फायदा नही हुा और उसकी तबियत और  खराब होने लगी तो उसे झुंझुनु के  अस्पताल मे भरती कराया गया जहं उसकी रिपोरट मे थायरािड होना पाया गया किंतु वह बहुत  बढ़ चुका था तथा उनकी मृत्यु वहीं अस्पताल मे हो गयी / 15 ✗ (3)\n",
      "tensor([[-2.2521]])\n",
      "torch.Size([1, 1])\n",
      "50000 50% (12m 32s) 3.0765  बचचे की टेटनस के कारण हुी थी सथानीय डा के अनुसार उसे टिटनस हो गया था मरने के पहले से मुंहसे एवं जांग एवं हाथ-पैर में ऐअंठन हो गया था जिसके फलसवरूप बचचे की मृत्यु हो गयी / 16 ✗ (4)\n",
      "tensor([[-2.1036]])\n",
      "torch.Size([1, 1])\n",
      "55000 55% (13m 44s) 2.1036  दिनांक  को  बजे का समय था बच्चा जब गाणव के सडक के किनारे खेल रहा था माण खेत में काम करने गयी हुी थी इसी बिच तीन पहिये वाला गाडी वहां से गुजर रही थी कैसे __ कैसे शिवानी उस गाडी के चक्कर के निचे आ गयी वो बुरी तरह से जखमी हो गयी गाणव के कुछ लोग उसे उठाकर सथानीय डाक्टर के पास ले गे लेकिन खून काफी बह चूका था डाक्टर उसे तुरंत भागलपुर ले जाने के लिे सलाह दिया लेकिन गाडी मिलने में देरी हुी तभी बिच बचची दम तोड दी / 15 ✓\n",
      "tensor([[-2.1780]])\n",
      "torch.Size([1, 1])\n",
      "60000 60% (14m 56s) 3.0764  उत्तरदाता मृतक की माता है उनके अनुसार उनके पुत्र को टिटनेस हो गया जिसके कारण उसकी मृत्यु हो गयी / 15 ✗ (4)\n",
      "tensor([[-2.1189]])\n",
      "torch.Size([1, 1])\n",
      "65000 65% (16m 8s) 2.1189  \"road accident death\" / 15 ✓\n",
      "tensor([[-2.0666]])\n",
      "torch.Size([1, 1])\n",
      "70000 70% (17m 20s) 2.5931  शरीर से बहुत दुबले थे बहुत ब कम आ गी थी खाना पीना छोड़ दिया था उच्च रक्तचाप की ही बीमारी थी गांव मे खाजागी डौक्टर के पास  दवाी ली फिर भी कुछ सुधार नही हो पाया और मृत्यु हो गी / 15 ✗ (12)\n",
      "tensor([[-2.0500]])\n",
      "torch.Size([1, 1])\n",
      "75000 75% (18m 43s) 4.2073  उत्तरदाता के अनुसार मृतक को निमोनिया ह गया था सांस लेने मे परेशानी हो गयी तीन चार दिन बीमार रही थी राधा सवामी मे ले गये थे, फिर छतरपुर परािवेट डौक्टर के पास ले गये थे मृत्यु घर पर हुी / 15 ✗ (1)\n",
      "tensor([[-1.9854]])\n",
      "torch.Size([1, 1])\n",
      "80000 80% (20m 3s) 2.5028  उत्तरदाता के अनुसार मृतक कुसुम खातुन की मृत्यु हरदय गति के रुक जाने के कारण हुा कुसुम खातुन को कुछ दिन से कमजोरी था तथा कभी कभी चक्कर भी आता था तथा इसके साथ - साथ कभी कभी कुछ काम करते गिर भी जाती थी उसने इसका इलाज किसी प्रशिकषित डाक्टर से न कराकर गांव के ही ओसा से जाड-फूल करवाने लगी इससे उनकी बीमारी दिन-प्रतिदिन बढते ही गी दिनांक  को सुबह में ब्रश कर रही थी तथा अचानक वह गिर पडी उसे देखकर कुछ लोग उसे अस्पताल ले जाने लगे तब रास्ता में ही उसकी मृत्यु हो गी थी / 15 ✗ (12)\n",
      "tensor([[-2.0927]])\n",
      "torch.Size([1, 1])\n",
      "85000 85% (21m 15s) 3.3106  उत्तरदाता के अनुसार मृतक को सकिन परोब्लम थी जिससे उनकी सकिन _____ नहीं थी और लाल लाल जब्बे और अधिक संवेदनशील हो गयी थी  साल से ये परेशानी थी फिर कभी कभी सांस घूंट रही थी की परेशानी होती थी बस ये सांस नहीं आ पाने पर मृत्यु हो गयी / 15 ✗ (14)\n",
      "tensor([[-2.0614]])\n",
      "torch.Size([1, 1])\n",
      "90000 90% (22m 26s) 4.0143  मृतक पहले दूसरी जगह रहती थी  वरष से उनकी तबीयत खाराब हो गयी तो उनके पुत्र उनहे अपने पास लेकर उनकी देखभाल कर रहे थे उनहे खांसी बहुत आती थी कफ एवं बलगम आता था काफी कम हो चुके थे, खाना पीना लगभग छोड़ दिया था काफी कम की अवसथा मे उनकी मृत्यु घर पर ही हो गयी / 15 ✗ (7)\n",
      "tensor([[-2.0946]])\n",
      "torch.Size([1, 1])\n",
      "95000 95% (23m 38s) 2.6491  उत्तरदाता का कहना है कि मृतक को मृत्यु से लगभग एक साल पूर्व से पतला पैखाना हो रहा था शरीर काफी कमजोर पड गया था डाक्टर से दिखाने पर दवा किया गया किन्तु ठीक नहीं हुा और मृत्यु हो गयी / 15 ✗ (3)\n",
      "tensor([[-2.1499]])\n",
      "torch.Size([1, 1])\n",
      "100000 100% (24m 51s) 2.2314  उत्तरदाता के अनुसार मृतक को घर पर अकेली थी तभी जहर का सेवन कर लिया था जिसके कारण उसकी मृत्यु हो गयी थी अस्पताल नहीं ले जा पाये थे / 15 ✗ (16)\n"
     ]
    },
    {
     "ename": "NameError",
     "evalue": "global name 'lstm' is not defined",
     "output_type": "error",
     "traceback": [
      "\u001b[0;31m---------------------------------------------------------------------------\u001b[0m",
      "\u001b[0;31mNameError\u001b[0m                                 Traceback (most recent call last)",
      "\u001b[0;32m<ipython-input-92-e911aa00778f>\u001b[0m in \u001b[0;36m<module>\u001b[0;34m()\u001b[0m\n\u001b[1;32m     25\u001b[0m         \u001b[0mall_losses\u001b[0m\u001b[0;34m.\u001b[0m\u001b[0mappend\u001b[0m\u001b[0;34m(\u001b[0m\u001b[0mcurrent_loss\u001b[0m \u001b[0;34m/\u001b[0m \u001b[0mplot_every\u001b[0m\u001b[0;34m)\u001b[0m\u001b[0;34m\u001b[0m\u001b[0m\n\u001b[1;32m     26\u001b[0m         \u001b[0mcurrent_loss\u001b[0m \u001b[0;34m=\u001b[0m \u001b[0;36m0\u001b[0m\u001b[0;34m\u001b[0m\u001b[0m\n\u001b[0;32m---> 27\u001b[0;31m \u001b[0msave\u001b[0m\u001b[0;34m(\u001b[0m\u001b[0;34m)\u001b[0m\u001b[0;34m\u001b[0m\u001b[0m\n\u001b[0m",
      "\u001b[0;32m<ipython-input-89-ebacfd63b10f>\u001b[0m in \u001b[0;36msave\u001b[0;34m()\u001b[0m\n\u001b[1;32m     15\u001b[0m \u001b[0;32mdef\u001b[0m \u001b[0msave\u001b[0m\u001b[0;34m(\u001b[0m\u001b[0;34m)\u001b[0m\u001b[0;34m:\u001b[0m\u001b[0;34m\u001b[0m\u001b[0m\n\u001b[1;32m     16\u001b[0m    \u001b[0msave_filename\u001b[0m \u001b[0;34m=\u001b[0m \u001b[0;34m\"./model_cnn.pt\"\u001b[0m\u001b[0;34m\u001b[0m\u001b[0m\n\u001b[0;32m---> 17\u001b[0;31m    \u001b[0mtorch\u001b[0m\u001b[0;34m.\u001b[0m\u001b[0msave\u001b[0m\u001b[0;34m(\u001b[0m\u001b[0mlstm\u001b[0m\u001b[0;34m,\u001b[0m \u001b[0msave_filename\u001b[0m\u001b[0;34m)\u001b[0m\u001b[0;34m\u001b[0m\u001b[0m\n\u001b[0m\u001b[1;32m     18\u001b[0m    \u001b[0;32mprint\u001b[0m\u001b[0;34m(\u001b[0m\u001b[0;34m'Saved as %s'\u001b[0m \u001b[0;34m%\u001b[0m \u001b[0msave_filename\u001b[0m\u001b[0;34m)\u001b[0m\u001b[0;34m\u001b[0m\u001b[0m\n\u001b[1;32m     19\u001b[0m \u001b[0;34m\u001b[0m\u001b[0m\n",
      "\u001b[0;31mNameError\u001b[0m: global name 'lstm' is not defined"
     ]
    }
   ],
   "source": [
    "if __name__ == '__main__':\n",
    "    \n",
    "    n_iters = 100000\n",
    "    print_every = 5000\n",
    "    plot_every = 1000\n",
    "\n",
    "    # Keep track of losses for plotting\n",
    "    current_loss = 0\n",
    "    all_losses = []\n",
    "    start = time.time()\n",
    "\n",
    "    for iter in range(1, n_iters + 1):\n",
    "        category, line, category_tensor, line_tensor = randomTrainingExample()\n",
    "        output, loss = train(category_tensor, line_tensor)\n",
    "        current_loss += loss\n",
    "\n",
    "        # Print iter number, loss, name and guess\n",
    "        if iter % print_every == 0:\n",
    "            guess, guess_i = categoryFromOutput(output)\n",
    "            correct = '✓' if guess == category else '✗ (%s)' % category\n",
    "            print('%d %d%% (%s) %.4f %s / %s %s' % (iter, iter / n_iters * 100, timeSince(start), loss, line, guess, correct))\n",
    "\n",
    "        # Add current loss avg to list of losses\n",
    "        if iter % plot_every == 0:\n",
    "            all_losses.append(current_loss / plot_every)\n",
    "            current_loss = 0\n",
    "    save()"
   ]
  },
  {
   "cell_type": "code",
   "execution_count": 30,
   "metadata": {},
   "outputs": [
    {
     "name": "stdout",
     "output_type": "stream",
     "text": [
      "total test: 1312\n",
      "total correct: 251\n",
      "prediction: 19.131098\n"
     ]
    }
   ],
   "source": [
    "evaluator = torch.load(\"./model_cnn_21x20.pt\")\n",
    "# -*- coding: UTF-8 -*-\n",
    "test_data={}\n",
    "\n",
    "tree = etree.parse('../data/mds+rct/dev_adult_cat_1312.xml')\n",
    "for e in tree.iter(\"cghr_cat\"):\n",
    "        if e.text not in test_data:\n",
    "             test_data[e.text]=[]\n",
    "for e in tree.iter(\"hindi_narrative\",\"cghr_cat\"):\n",
    "    if e.tag == \"hindi_narrative\":\n",
    "        value= u''.join(e.text)\n",
    "#         print(value)\n",
    "        \n",
    "    if e.tag == 'cghr_cat':\n",
    "        test_data[e.text].append(value)\n",
    "\n",
    "total_test = 0\n",
    "total_correct = 0\n",
    "for k,v in test_data.items():\n",
    "    cat = k\n",
    "    for line in v:\n",
    "        narr = line\n",
    "        narr_tensor = lineToTensor(line)\n",
    "        output = evaluator(narr_tensor)\n",
    "        guess, guess_i = categoryFromOutput(output)\n",
    "        #print(\"correct cat: %s , predicted cat: %s\"%(cat,guess))\n",
    "        total_test +=1\n",
    "        if cat == guess:\n",
    "            total_correct +=1\n",
    "\n",
    "print(\"total test: %d\"%(total_test))\n",
    "print(\"total correct: %d\"%(total_correct))\n",
    "print(\"prediction: %f\"%((total_correct/total_test)*100))"
   ]
  },
  {
   "cell_type": "code",
   "execution_count": null,
   "metadata": {
    "collapsed": true
   },
   "outputs": [],
   "source": []
  }
 ],
 "metadata": {
  "kernelspec": {
   "display_name": "Python 2",
   "language": "python",
   "name": "python2"
  },
  "language_info": {
   "codemirror_mode": {
    "name": "ipython",
    "version": 2
   },
   "file_extension": ".py",
   "mimetype": "text/x-python",
   "name": "python",
   "nbconvert_exporter": "python",
   "pygments_lexer": "ipython2",
   "version": "2.7.14"
  }
 },
 "nbformat": 4,
 "nbformat_minor": 2
}
