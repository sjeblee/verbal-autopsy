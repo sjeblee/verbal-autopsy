{
 "cells": [
  {
   "cell_type": "code",
   "execution_count": 2,
   "metadata": {
    "collapsed": true
   },
   "outputs": [],
   "source": [
    "from gensim.models import KeyedVectors\n",
    "model_hi = KeyedVectors.load_word2vec_format('../vectors/wiki.hi_mapped.vec', binary=False,encoding='UTF8',unicode_errors='ignore')\n",
    "model_en = KeyedVectors.load_word2vec_format('../vectors/wiki.train_all_mapped.en300.vec', binary=False,encoding='UTF8',unicode_errors='ignore')"
   ]
  },
  {
   "cell_type": "code",
   "execution_count": 23,
   "metadata": {
    "collapsed": true
   },
   "outputs": [],
   "source": [
    "import sklearn\n",
    "import scipy"
   ]
  },
  {
   "cell_type": "code",
   "execution_count": 30,
   "metadata": {},
   "outputs": [
    {
     "name": "stdout",
     "output_type": "stream",
     "text": [
      "[[ 1. -1.  1. ... -1. -1. -1.]\n",
      " [-1.  1. -1. ...  1.  1.  1.]\n",
      " [ 1. -1.  1. ... -1. -1. -1.]\n",
      " ...\n",
      " [-1.  1. -1. ...  1.  1.  1.]\n",
      " [ 1. -1.  1. ... -1. -1. -1.]\n",
      " [ 1. -1.  1. ... -1. -1. -1.]]\n",
      "0.26070278882980347\n"
     ]
    }
   ],
   "source": [
    "hi_cough=model_hi[\"खांसी\".decode('utf8')].reshape(-1,1)\n",
    "en_cough=model_en[\"fever\"].reshape(-1,1) \n",
    "print(sklearn.metrics.pairwise.cosine_similarity(hi_cough,en_cough))\n",
    "print(1-scipy.spatial.distance.cosine(hi_cough,en_cough))"
   ]
  },
  {
   "cell_type": "code",
   "execution_count": 11,
   "metadata": {},
   "outputs": [
    {
     "name": "stdout",
     "output_type": "stream",
     "text": [
      "word:खांसने, distance:0.796152293682        word:coughing,distance:0.676472187042\n",
      "word:खांसना, distance:0.783711135387        word:retching,distance:0.578740060329\n",
      "word:फुंसी, distance:0.760061681271        word:hacking,distance:0.572137713432\n",
      "word:खाँसी, distance:0.754007160664        word:heaves,distance:0.568975508213\n",
      "word:घरघराहट, distance:0.724955439568        word:heaving,distance:0.556913971901\n",
      "word:जुकाम, distance:0.720422565937        word:coughs,distance:0.5524097085\n",
      "word:भगशोथ, distance:0.712982654572        word:heave,distance:0.52138376236\n",
      "word:मिचली, distance:0.7101765275        word:breathlessness,distance:0.490806728601\n",
      "word:उबकाई, distance:0.707012951374        word:wheezing,distance:0.490162938833\n",
      "word:बलगम, distance:0.700049161911        word:phelgm,distance:0.478485971689\n"
     ]
    }
   ],
   "source": [
    "values_hi=(model_hi.most_similar(\"खांसी\".decode('utf8')))\n",
    "values_en =(model_en.most_similar(\"cough\"))\n",
    "for i in range(len(values_hi)):\n",
    "    print(u\"word:{}, distance:{}        word:{},distance:{}\".format(values_hi[i][0],values_hi[i][1],values_en[i][0],values_en[i][1]))"
   ]
  },
  {
   "cell_type": "code",
   "execution_count": 27,
   "metadata": {},
   "outputs": [
    {
     "name": "stdout",
     "output_type": "stream",
     "text": [
      "[[ 1. -1.  1. ...  1. -1.  1.]\n",
      " [-1.  1. -1. ... -1.  1. -1.]\n",
      " [ 1. -1.  1. ...  1. -1.  1.]\n",
      " ...\n",
      " [-1.  1. -1. ... -1.  1. -1.]\n",
      " [ 1. -1.  1. ...  1. -1.  1.]\n",
      " [ 1. -1.  1. ...  1. -1.  1.]]\n",
      "0.26681119203567505\n"
     ]
    }
   ],
   "source": [
    "hi_fever=model_hi[\"बुखार\".decode('utf8')].reshape(-1,1)\n",
    "en_fever=model_en[\"fever\"].reshape(-1,1) \n",
    "print(sklearn.metrics.pairwise.cosine_similarity(hi_cough,en_cough))\n",
    "print(1-scipy.spatial.distance.cosine(hi_cough,en_cough))"
   ]
  },
  {
   "cell_type": "code",
   "execution_count": 12,
   "metadata": {},
   "outputs": [
    {
     "name": "stdout",
     "output_type": "stream",
     "text": [
      "word:फैरिंजाइटिस, distance:0.744660496712        word:fevers,distance:0.746346414089\n",
      "word:मेनिन्जाइटिस, distance:0.732520401478        word:rigours,distance:0.52916175127\n",
      "word:ज्वर, distance:0.724997997284        word:temperature,distance:0.518436193466\n",
      "word:ब्रोंकाइटिस, distance:0.718048095703        word:chills,distance:0.495565742254\n",
      "word:साइनोसाइटिस, distance:0.711195230484        word:breathlessness,distance:0.484622180462\n",
      "word:साइनसाइटिस, distance:0.710711240768        word:cough,distance:0.470863580704\n",
      "word:गठिया, distance:0.709749996662        word:headache,distance:0.457562953234\n",
      "word:बीमारी, distance:0.709399759769        word:temperatures,distance:0.446844220161\n",
      "word:गलशोथ, distance:0.706726372242        word:temp,distance:0.441602885723\n",
      "word:कैप्‍सूलाइटिस, distance:0.704908013344        word:sweating,distance:0.441551148891\n"
     ]
    }
   ],
   "source": [
    "values_hi=(model_hi.most_similar(\"बुखार\".decode('utf8')))\n",
    "values_en =(model_en.most_similar(\"fever\"))\n",
    "for i in range(len(values_hi)):\n",
    "    print(u\"word:{}, distance:{}        word:{},distance:{}\".format(values_hi[i][0],values_hi[i][1],values_en[i][0],values_en[i][1]))"
   ]
  },
  {
   "cell_type": "code",
   "execution_count": 28,
   "metadata": {},
   "outputs": [
    {
     "name": "stdout",
     "output_type": "stream",
     "text": [
      "[[ 1. -1.  1. ...  1. -1.  1.]\n",
      " [-1.  1. -1. ... -1.  1. -1.]\n",
      " [ 1. -1.  1. ...  1. -1.  1.]\n",
      " ...\n",
      " [-1.  1. -1. ... -1.  1. -1.]\n",
      " [ 1. -1.  1. ...  1. -1.  1.]\n",
      " [ 1. -1.  1. ...  1. -1.  1.]]\n",
      "0.26681119203567505\n"
     ]
    }
   ],
   "source": [
    "hi_death=model_hi[\"मौत\".decode('utf8')].reshape(-1,1)\n",
    "en_death=model_en[\"death\"].reshape(-1,1) \n",
    "print(sklearn.metrics.pairwise.cosine_similarity(hi_cough,en_cough))\n",
    "print(1-scipy.spatial.distance.cosine(hi_cough,en_cough))"
   ]
  },
  {
   "cell_type": "code",
   "execution_count": 13,
   "metadata": {},
   "outputs": [
    {
     "name": "stdout",
     "output_type": "stream",
     "text": [
      "word:मृत्यु, distance:0.69210255146        word:deathhe,distance:0.471830278635\n",
      "word:मौते, distance:0.647044718266        word:deaththe,distance:0.430984556675\n",
      "word:मरने, distance:0.638676345348        word:deathxxx,distance:0.406089872122\n",
      "word:हत्या, distance:0.587661921978        word:died,distance:0.40353295207\n",
      "word:मृत्यु।, distance:0.583293914795        word:death1,distance:0.399238318205\n",
      "word:आत्महत्या, distance:0.583093881607        word:diedhe,distance:0.388581007719\n",
      "word:मृत्यू, distance:0.580056548119        word:deathaccording,distance:0.372150361538\n",
      "word:घायल, distance:0.577971577644        word:deathrespondent,distance:0.349837332964\n",
      "word:गिरफ्तारी, distance:0.57571297884        word:diedthe,distance:0.343376398087\n",
      "word:ह्त्या, distance:0.572066426277        word:delivery,distance:0.336165368557\n"
     ]
    }
   ],
   "source": [
    "values_hi=(model_hi.most_similar(\"मौत\".decode('utf8')))\n",
    "values_en =(model_en.most_similar(\"death\"))\n",
    "for i in range(len(values_hi)):\n",
    "    print(u\"word:{}, distance:{}        word:{},distance:{}\".format(values_hi[i][0],values_hi[i][1],values_en[i][0],values_en[i][1]))"
   ]
  },
  {
   "cell_type": "code",
   "execution_count": 14,
   "metadata": {},
   "outputs": [
    {
     "name": "stdout",
     "output_type": "stream",
     "text": [
      "word:गर्भावस्था, distance:0.702564954758        word:pregant,distance:0.868578612804\n",
      "word:गर्भवस्था, distance:0.695388019085        word:preggo,distance:0.807902097702\n",
      "word:गर्भधान, distance:0.690891981125        word:pregnent,distance:0.806621849537\n",
      "word:गर्भकाल, distance:0.680371701717        word:prego,distance:0.799271345139\n",
      "word:गर्भकला, distance:0.666498661041        word:pregnet,distance:0.799152195454\n",
      "word:गर्भधारण, distance:0.664897680283        word:pregnat,distance:0.795221567154\n",
      "word:गर्भकोष, distance:0.659957826138        word:preggers,distance:0.785017609596\n",
      "word:गर्भोदक, distance:0.653417289257        word:preganant,distance:0.761895298958\n",
      "word:गर्भजन्य, distance:0.637028634548        word:pg,distance:0.74329161644\n",
      "word:गर्भाषय, distance:0.625655114651        word:pregnate,distance:0.722749888897\n"
     ]
    }
   ],
   "source": [
    "values_hi=(model_hi.most_similar(\"गर्भवती\".decode('utf8')))\n",
    "values_en =(model_en.most_similar(\"pregnant\"))\n",
    "for i in range(len(values_hi)):\n",
    "    print(u\"word:{}, distance:{}        word:{},distance:{}\".format(values_hi[i][0],values_hi[i][1],values_en[i][0],values_en[i][1]))"
   ]
  },
  {
   "cell_type": "code",
   "execution_count": 1,
   "metadata": {
    "collapsed": true
   },
   "outputs": [],
   "source": [
    "from lxml import etree\n",
    "from gensim.models import KeyedVectors\n",
    "model_hi = KeyedVectors.load_word2vec_format('../wiki.hi.vec', binary=False,encoding='UTF8',unicode_errors='ignore')"
   ]
  },
  {
   "cell_type": "code",
   "execution_count": null,
   "metadata": {
    "collapsed": true
   },
   "outputs": [],
   "source": [
    "t,m,u = get_coverage(line)\n",
    "        total = total + t\n",
    "        matched = matched + m\n",
    "        unmatched = unmatched +u\n",
    "percent_matched = (float(matched)/total)*100\n",
    "percent_unmatched = (float(unmatched)/total)*100\n",
    "print (\"words matched:{}({}%)\".format(matched,percent_matched))\n",
    "print (\"words matched:{}({}%)\".format(unmatched,percent_unmatched))\n",
    "print (\"total words:%d\"%total)\n",
    "tree = etree.parse('../data/mds+rct/train_adult_cat.xml')\n",
    "for e in tree.iter(\"cghr_cat\"):\n",
    "        if e.text not in data:\n",
    "             data[e.text]=[]\n",
    "             all_categories.append(e.text)"
   ]
  }
 ],
 "metadata": {
  "kernelspec": {
   "display_name": "Python 2",
   "language": "python",
   "name": "python2"
  },
  "language_info": {
   "codemirror_mode": {
    "name": "ipython",
    "version": 2
   },
   "file_extension": ".py",
   "mimetype": "text/x-python",
   "name": "python",
   "nbconvert_exporter": "python",
   "pygments_lexer": "ipython2",
   "version": "2.7.14"
  }
 },
 "nbformat": 4,
 "nbformat_minor": 2
}
